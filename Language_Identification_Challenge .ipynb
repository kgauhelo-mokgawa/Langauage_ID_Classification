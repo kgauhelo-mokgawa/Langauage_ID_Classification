{
 "cells": [
  {
   "cell_type": "code",
   "execution_count": 35,
   "metadata": {},
   "outputs": [
    {
     "name": "stderr",
     "output_type": "stream",
     "text": [
      "[nltk_data] Downloading package punkt to C:\\Users\\venetia\n",
      "[nltk_data]     mokgawa\\AppData\\Roaming\\nltk_data...\n",
      "[nltk_data]   Package punkt is already up-to-date!\n",
      "[nltk_data] Downloading package wordnet to C:\\Users\\venetia\n",
      "[nltk_data]     mokgawa\\AppData\\Roaming\\nltk_data...\n",
      "[nltk_data]   Package wordnet is already up-to-date!\n",
      "[nltk_data] Downloading package stopwords to C:\\Users\\venetia\n",
      "[nltk_data]     mokgawa\\AppData\\Roaming\\nltk_data...\n",
      "[nltk_data]   Package stopwords is already up-to-date!\n",
      "[nltk_data] Downloading package averaged_perceptron_tagger to\n",
      "[nltk_data]     C:\\Users\\venetia mokgawa\\AppData\\Roaming\\nltk_data...\n",
      "[nltk_data]   Package averaged_perceptron_tagger is already up-to-\n",
      "[nltk_data]       date!\n"
     ]
    }
   ],
   "source": [
    "# Pandas and numpy for basic data manipulation\n",
    "import pandas as pd\n",
    "import numpy as np\n",
    "\n",
    "# String and re (regular expression) for string/regex manipulations\n",
    "import string\n",
    "import re\n",
    "\n",
    "# Counter for EDA (emojis)\n",
    "from collections import Counter\n",
    "\n",
    "\n",
    "# SciKit-Learn (sklearn) classes for model building, text vectorisation, and metrics for performance analysis\n",
    "from sklearn.feature_extraction.text import TfidfVectorizer, CountVectorizer\n",
    "from sklearn.tree import DecisionTreeClassifier\n",
    "from sklearn.linear_model import LogisticRegression\n",
    "from sklearn.naive_bayes import MultinomialNB\n",
    "from sklearn.svm import LinearSVC, SVC\n",
    "from sklearn.linear_model import RidgeClassifier\n",
    "from sklearn.model_selection import train_test_split\n",
    "from sklearn.naive_bayes import MultinomialNB\n",
    "from sklearn.model_selection import GridSearchCV, RandomizedSearchCV, StratifiedKFold,RepeatedStratifiedKFold\n",
    "from sklearn.naive_bayes import MultinomialNB\n",
    "from sklearn.metrics import f1_score, classification_report, precision_score, recall_score, log_loss, make_scorer,confusion_matrix\n",
    "from sklearn.pipeline import Pipeline,FeatureUnion\n",
    "\n",
    "#NLTK (Natural Language Tool Kit) and Spacy for NLP (Natural Language Processing)\n",
    "from nltk.stem import WordNetLemmatizer\n",
    "from nltk.corpus import stopwords, wordnet\n",
    "from nltk.tokenize import word_tokenize\n",
    "import nltk\n",
    "import spacy\n",
    "#from spacy_langdetect import LanguageDetector #detects which language is used\n",
    "import en_core_web_sm #Spacy English language dictionary\n",
    "\n",
    "# NLTK dictionary Downloads\n",
    "nltk.download('punkt')\n",
    "nltk.download('wordnet')\n",
    "nltk.download('stopwords')\n",
    "nltk.download('averaged_perceptron_tagger')\n",
    "\n",
    "# Plotting/visualisation packages\n",
    "import seaborn as sns\n",
    "import matplotlib.pyplot as plt\n",
    "%matplotlib inline\n",
    "from wordcloud import WordCloud"
   ]
  },
  {
   "cell_type": "code",
   "execution_count": 36,
   "metadata": {},
   "outputs": [],
   "source": [
    "train = pd.read_csv('train_set.csv')\n",
    "test = pd.read_csv('test_set.csv')"
   ]
  },
  {
   "cell_type": "code",
   "execution_count": 37,
   "metadata": {},
   "outputs": [
    {
     "data": {
      "text/html": [
       "<div>\n",
       "<style scoped>\n",
       "    .dataframe tbody tr th:only-of-type {\n",
       "        vertical-align: middle;\n",
       "    }\n",
       "\n",
       "    .dataframe tbody tr th {\n",
       "        vertical-align: top;\n",
       "    }\n",
       "\n",
       "    .dataframe thead th {\n",
       "        text-align: right;\n",
       "    }\n",
       "</style>\n",
       "<table border=\"1\" class=\"dataframe\">\n",
       "  <thead>\n",
       "    <tr style=\"text-align: right;\">\n",
       "      <th></th>\n",
       "      <th>lang_id</th>\n",
       "      <th>text</th>\n",
       "    </tr>\n",
       "  </thead>\n",
       "  <tbody>\n",
       "    <tr>\n",
       "      <th>0</th>\n",
       "      <td>xho</td>\n",
       "      <td>umgaqo-siseko wenza amalungiselelo kumaziko ax...</td>\n",
       "    </tr>\n",
       "    <tr>\n",
       "      <th>1</th>\n",
       "      <td>xho</td>\n",
       "      <td>i-dha iya kuba nobulumko bokubeka umsebenzi na...</td>\n",
       "    </tr>\n",
       "    <tr>\n",
       "      <th>2</th>\n",
       "      <td>eng</td>\n",
       "      <td>the province of kwazulu-natal department of tr...</td>\n",
       "    </tr>\n",
       "    <tr>\n",
       "      <th>3</th>\n",
       "      <td>nso</td>\n",
       "      <td>o netefatša gore o ba file dilo ka moka tše le...</td>\n",
       "    </tr>\n",
       "    <tr>\n",
       "      <th>4</th>\n",
       "      <td>ven</td>\n",
       "      <td>khomishini ya ndinganyiso ya mbeu yo ewa maana...</td>\n",
       "    </tr>\n",
       "  </tbody>\n",
       "</table>\n",
       "</div>"
      ],
      "text/plain": [
       "  lang_id                                               text\n",
       "0     xho  umgaqo-siseko wenza amalungiselelo kumaziko ax...\n",
       "1     xho  i-dha iya kuba nobulumko bokubeka umsebenzi na...\n",
       "2     eng  the province of kwazulu-natal department of tr...\n",
       "3     nso  o netefatša gore o ba file dilo ka moka tše le...\n",
       "4     ven  khomishini ya ndinganyiso ya mbeu yo ewa maana..."
      ]
     },
     "execution_count": 37,
     "metadata": {},
     "output_type": "execute_result"
    }
   ],
   "source": [
    "train.head()"
   ]
  },
  {
   "cell_type": "code",
   "execution_count": 38,
   "metadata": {},
   "outputs": [
    {
     "data": {
      "text/html": [
       "<div>\n",
       "<style scoped>\n",
       "    .dataframe tbody tr th:only-of-type {\n",
       "        vertical-align: middle;\n",
       "    }\n",
       "\n",
       "    .dataframe tbody tr th {\n",
       "        vertical-align: top;\n",
       "    }\n",
       "\n",
       "    .dataframe thead th {\n",
       "        text-align: right;\n",
       "    }\n",
       "</style>\n",
       "<table border=\"1\" class=\"dataframe\">\n",
       "  <thead>\n",
       "    <tr style=\"text-align: right;\">\n",
       "      <th></th>\n",
       "      <th>index</th>\n",
       "      <th>text</th>\n",
       "    </tr>\n",
       "  </thead>\n",
       "  <tbody>\n",
       "    <tr>\n",
       "      <th>0</th>\n",
       "      <td>1</td>\n",
       "      <td>Mmasepala, fa maemo a a kgethegileng a letlele...</td>\n",
       "    </tr>\n",
       "    <tr>\n",
       "      <th>1</th>\n",
       "      <td>2</td>\n",
       "      <td>Uzakwaziswa ngokufaneleko nakungafuneka eminye...</td>\n",
       "    </tr>\n",
       "    <tr>\n",
       "      <th>2</th>\n",
       "      <td>3</td>\n",
       "      <td>Tshivhumbeo tshi fana na ngano dza vhathu.</td>\n",
       "    </tr>\n",
       "    <tr>\n",
       "      <th>3</th>\n",
       "      <td>4</td>\n",
       "      <td>Kube inja nelikati betingevakala kutsi titsini...</td>\n",
       "    </tr>\n",
       "    <tr>\n",
       "      <th>4</th>\n",
       "      <td>5</td>\n",
       "      <td>Winste op buitelandse valuta.</td>\n",
       "    </tr>\n",
       "  </tbody>\n",
       "</table>\n",
       "</div>"
      ],
      "text/plain": [
       "   index                                               text\n",
       "0      1  Mmasepala, fa maemo a a kgethegileng a letlele...\n",
       "1      2  Uzakwaziswa ngokufaneleko nakungafuneka eminye...\n",
       "2      3         Tshivhumbeo tshi fana na ngano dza vhathu.\n",
       "3      4  Kube inja nelikati betingevakala kutsi titsini...\n",
       "4      5                      Winste op buitelandse valuta."
      ]
     },
     "execution_count": 38,
     "metadata": {},
     "output_type": "execute_result"
    }
   ],
   "source": [
    "test.head()"
   ]
  },
  {
   "cell_type": "code",
   "execution_count": 39,
   "metadata": {},
   "outputs": [
    {
     "name": "stdout",
     "output_type": "stream",
     "text": [
      "The train dataset has 33000 rows/entries and 2 columns (lang_id, text)\n",
      "The test dataset has 5682 rows/entries and 2 columns (index and text)\n"
     ]
    }
   ],
   "source": [
    "print(f'The train dataset has {train.shape[0]} rows/entries and {train.shape[1]} columns ({train.columns[0]}, {train.columns[1]})')\n",
    "print(f'The test dataset has {test.shape[0]} rows/entries and {test.shape[1]} columns ({test.columns[0]} and {test.columns[1]})')"
   ]
  },
  {
   "cell_type": "code",
   "execution_count": 40,
   "metadata": {},
   "outputs": [],
   "source": [
    "# Set the X and y variables to contain the feature ('message' column) and label ('sentiment' column), respectively.\n",
    "X = train['text']\n",
    "y = train['lang_id']"
   ]
  },
  {
   "cell_type": "code",
   "execution_count": 41,
   "metadata": {},
   "outputs": [],
   "source": [
    "# Split X into a train and validation (test) set.\n",
    "X_train, X_test, y_train, y_test = train_test_split(X, y, test_size=0.10)"
   ]
  },
  {
   "cell_type": "code",
   "execution_count": null,
   "metadata": {},
   "outputs": [],
   "source": [
    "param_grid = {'alpha':[0.01,0.1,1]}\n",
    "NB = Pipeline([('NB_tfidf', TfidfVectorizer(min_df=1,max_df=0.5,ngram_range=(6,6),analyzer='char')),\n",
    "               ('NB_clf', GridSearchCV(MultinomialNB(),param_grid=param_grid,cv=5,n_jobs=-1))])\n",
    "\n",
    "NB.fit(X_train, y_train)\n",
    "y_pred_NB = NB.predict(X_test)\n",
    "\n",
    "\n",
    "print(classification_report(y_test, y_pred_NB))\n",
    "NB_metrics = classification_report(y_test, y_pred_NB, output_dict=True)"
   ]
  },
  {
   "cell_type": "code",
   "execution_count": 31,
   "metadata": {},
   "outputs": [
    {
     "name": "stdout",
     "output_type": "stream",
     "text": [
      "              precision    recall  f1-score   support\n",
      "\n",
      "         afr       1.00      1.00      1.00       304\n",
      "         eng       1.00      1.00      1.00       307\n",
      "         nbl       1.00      1.00      1.00       274\n",
      "         nso       1.00      1.00      1.00       318\n",
      "         sot       1.00      1.00      1.00       264\n",
      "         ssw       1.00      1.00      1.00       292\n",
      "         tsn       1.00      1.00      1.00       315\n",
      "         tso       1.00      1.00      1.00       296\n",
      "         ven       1.00      1.00      1.00       334\n",
      "         xho       1.00      1.00      1.00       292\n",
      "         zul       1.00      1.00      1.00       304\n",
      "\n",
      "    accuracy                           1.00      3300\n",
      "   macro avg       1.00      1.00      1.00      3300\n",
      "weighted avg       1.00      1.00      1.00      3300\n",
      "\n"
     ]
    }
   ],
   "source": [
    "param_grid = {'alpha':[0.01,0.1,1]}\n",
    "NB = Pipeline([('tfidf',TfidfVectorizer(min_df=1,max_df=0.5,ngram_range=(4,4),analyzer='char')),\n",
    "              ('nb',GridSearchCV(MultinomialNB(),param_grid=param_grid,cv=5,n_jobs=-1))])\n",
    "NB.fit(X_train, y_train)\n",
    "y_pred_NB = NB.predict(X_test)\n",
    "\n",
    "\n",
    "print(classification_report(y_test, y_pred_NB))\n",
    "NB_metrics = classification_report(y_test, y_pred_NB, output_dict=True)"
   ]
  },
  {
   "cell_type": "code",
   "execution_count": null,
   "metadata": {},
   "outputs": [],
   "source": [
    "param_grid = {'alpha':[0.01,0.1,1],\n",
    "              'tfidf_use_idf': (True,False),\n",
    "              'tfidf_norm': ('l1','l2'),\n",
    "              'clf_alpha' : [1,1e-1,1e-2]}\n",
    "NB = Pipeline([('tfidf',TfidfVectorizer(min_df=1,max_df=0.5,ngram_range=(3,3),analyzer='char')),\n",
    "              ('nb',GridSearchCV(MultinomialNB,param_grid=param_grid,cv=5,n_jobs=-1))])\n",
    "NB.fit(X_train, y_train)\n",
    "y_pred_NB = NB.predict(X_test)\n",
    "\n",
    "\n",
    "print(classification_report(y_test, y_pred_NB))\n",
    "NB_metrics = classification_report(y_test, y_pred_NB, output_dict=True)"
   ]
  },
  {
   "cell_type": "code",
   "execution_count": null,
   "metadata": {},
   "outputs": [],
   "source": [
    "LSVC = Pipeline([('LSVC_tfidf', TfidfVectorizer(min_df=2,smooth_idf=True, ngram_range=(1, 3))),\n",
    "                 ('LSVC_clf', LinearSVC())])\n",
    "\n",
    "LSVC.fit(X_train, y_train)\n",
    "y_pred_LSVC = LSVC.predict(X_test)\n",
    "\n",
    "print(classification_report(y_test, y_pred_LSVC))\n",
    "LSVC_metrics = classification_report(y_test, y_pred_LSVC)"
   ]
  },
  {
   "cell_type": "code",
   "execution_count": null,
   "metadata": {},
   "outputs": [],
   "source": [
    "Ridge = Pipeline([('Ridge_tfidf', TfidfVectorizer(min_df=2, smooth_idf=True, ngram_range=(1, 4))),\n",
    "                 ('Ridge_clf', RidgeClassifier(alpha=0.2))])\n",
    "\n",
    "Ridge.fit(X_train, y_train)\n",
    "y_pred_Ridge = Ridge.predict(X_test)\n",
    "\n",
    "print(classification_report(y_test, y_pred_Ridge))\n",
    "Ridge_metrics = classification_report(y_test, y_pred_Ridge)"
   ]
  },
  {
   "cell_type": "code",
   "execution_count": null,
   "metadata": {},
   "outputs": [],
   "source": [
    "LSVC = Pipeline([('LSVC_vect', CountVectorizer()),\n",
    "                 ('LSVC_clf', LinearSVC())])\n",
    "\n",
    "LSVC.fit(X_train, y_train)\n",
    "y_pred_LSVC = LSVC.predict(X_test)\n",
    "\n",
    "print(classification_report(y_test, y_pred_LSVC))\n",
    "LSVC_metrics = classification_report(y_test, y_pred_LSVC)"
   ]
  },
  {
   "cell_type": "code",
   "execution_count": null,
   "metadata": {},
   "outputs": [],
   "source": [
    "feature_union = ('feature_union', FeatureUnion([\n",
    "                ('count_vect', CountVectorizer()),\n",
    "                ('tfidf', TfidfVectorizer(min_df=2,sublinear_tf=True,norm='l2', smooth_idf=True, ngram_range=(1, 4))),\n",
    "]))\n",
    "    \n",
    "feature = Pipeline([feature_union,\n",
    "                        ('LSVC_clf', LinearSVC())])\n",
    "feature.fit(X_train, y_train)\n",
    "y_pred_feature= feature.predict(X_test)\n",
    "\n",
    "print(classification_report(y_test, y_pred_feature))\n",
    "feature_metrics = classification_report(y_test, y_pred_feature)"
   ]
  },
  {
   "cell_type": "code",
   "execution_count": null,
   "metadata": {},
   "outputs": [],
   "source": []
  },
  {
   "cell_type": "code",
   "execution_count": null,
   "metadata": {},
   "outputs": [],
   "source": [
    "LSVC_param_grid = {'LSVC_clf__C': [1, 1.01, 1.02, 1.03],\n",
    "                   'LSVC_tfidf__max_df': (0.9, 0.999),\n",
    "                   'LSVC_tfidf__min_df': (0,0.00001, 0.001),\n",
    "                   'LSVC_tfidf__ngram_range': [(1, 2), (1, 3), (1, 4), (1, 5)]}\n",
    "\n",
    "skf = StratifiedKFold(n_splits=5, shuffle = True, random_state = 42)\n",
    "# Using the Linear SVC model above, we perform the gridsearch\n",
    "LSVC_searchCV = GridSearchCV(LSVC, cv=skf, param_grid=LSVC_param_grid, verbose=3, scoring='f1_micro', n_jobs=-1, refit=True)\n",
    "LSVC_searchCV.fit(X, y)"
   ]
  },
  {
   "cell_type": "code",
   "execution_count": null,
   "metadata": {},
   "outputs": [],
   "source": [
    "NB = Pipeline([\n",
    "               ('Count_vec',CountVectorizer(analyzer='char',min_df=1,ngram_range=(1,3))),\n",
    "               ('NB_clf', MultinomialNB())])\n",
    "naive_tfidf =Pipeline([('CountVec',  TfidfVectorizer()),('svc', MultinomialNB()),])\n",
    "NB.fit(X_train, y_train)\n",
    "y_pred_NB = NB.predict(X_test)\n",
    "\n",
    "\n",
    "print(classification_report(y_test, y_pred_NB))\n",
    "NB_metrics = classification_report(y_test, y_pred_NB, output_dict=True)"
   ]
  },
  {
   "cell_type": "code",
   "execution_count": null,
   "metadata": {},
   "outputs": [],
   "source": [
    "Ridge_param_grid = {'Ridge_clf__alpha':[0.1, 0.2, 0.3, 0.4, 0.5, 0.6, 0.7, 0.8, 0.9, 1.0],\n",
    "                   'Ridge_tfidf__max_df': (0.9, 0.999),\n",
    "                   'Ridge_tfidf__min_df': (0,0.00001, 0.001),\n",
    "                   'Ridge_tfidf__ngram_range': [(1, 2), (1, 3), (1, 4), (1, 5)]}\n",
    "cv = RepeatedStratifiedKFold(n_splits=5, n_repeats=3, random_state=1)\n",
    "# Using the Ridge Classifier model above, we perform the gridsearch\n",
    "Ridge_searchCV = GridSearchCV(Ridge, cv=cv, param_grid=Ridge_param_grid, n_jobs=-1, error_score=0)\n",
    "Ridge_searchCV.fit(X, y)\n",
    "#print(\"Best: %f using %s\" % (grid_result.best_score_, grid_result.best_params_))\n",
    "#means = grid_result.cv_results_['mean_test_score']\n",
    "#stds = grid_result.cv_results_['std_test_score']\n",
    "#params = grid_result.cv_results_['params']\n",
    "#for mean, stdev, param in zip(means, stds, params):\n",
    "    #print(\"%f (%f) with: %r\" % (mean, stdev, param))"
   ]
  },
  {
   "cell_type": "code",
   "execution_count": null,
   "metadata": {},
   "outputs": [],
   "source": [
    "LSVC_searchCV.best_params_"
   ]
  },
  {
   "cell_type": "code",
   "execution_count": 32,
   "metadata": {},
   "outputs": [
    {
     "data": {
      "text/plain": [
       "Pipeline(steps=[('tfidf',\n",
       "                 TfidfVectorizer(analyzer='char', max_df=0.5,\n",
       "                                 ngram_range=(6, 6))),\n",
       "                ('nb',\n",
       "                 GridSearchCV(cv=5, estimator=MultinomialNB(), n_jobs=-1,\n",
       "                              param_grid={'alpha': [0.01, 0.1, 1]}))])"
      ]
     },
     "execution_count": 32,
     "metadata": {},
     "output_type": "execute_result"
    }
   ],
   "source": [
    "NB.fit(X, y)"
   ]
  },
  {
   "cell_type": "code",
   "execution_count": 33,
   "metadata": {},
   "outputs": [],
   "source": [
    "#Make submission\n",
    "Sub_df = pd.DataFrame(test['index'])\n",
    "Sub_df['lang_id'] =NB.predict(test['text'])\n",
    "Sub_df.to_csv('naive8', index=False)"
   ]
  },
  {
   "cell_type": "code",
   "execution_count": null,
   "metadata": {},
   "outputs": [],
   "source": []
  }
 ],
 "metadata": {
  "kernelspec": {
   "display_name": "Python 3",
   "language": "python",
   "name": "python3"
  },
  "language_info": {
   "codemirror_mode": {
    "name": "ipython",
    "version": 3
   },
   "file_extension": ".py",
   "mimetype": "text/x-python",
   "name": "python",
   "nbconvert_exporter": "python",
   "pygments_lexer": "ipython3",
   "version": "3.7.6"
  }
 },
 "nbformat": 4,
 "nbformat_minor": 4
}
